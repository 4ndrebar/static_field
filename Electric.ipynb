{
 "cells": [
  {
   "cell_type": "code",
   "execution_count": 1,
   "metadata": {},
   "outputs": [],
   "source": [
    "from StaticSimulator import *"
   ]
  },
  {
   "cell_type": "code",
   "execution_count": 4,
   "metadata": {},
   "outputs": [
    {
     "name": "stderr",
     "output_type": "stream",
     "text": [
      "  4%|▎         | 72/2000 [00:13<06:04,  5.29it/s]\n"
     ]
    }
   ],
   "source": [
    "resolution = 0.1\n",
    "solver = StaticSolver(simulation_size=(30, 30, 30), resolution=resolution)\n",
    "s = Sphere(2)\n",
    "c = Cube(3)\n",
    "sl = Slab(1, (10, 10))\n",
    "ss = Sphere(1)\n",
    "solver.add_conductor(5, s, (20, 15, 15))\n",
    "solver.add_conductor(13, sl, (15, 23, 15))\n",
    "solver.add_conductor(15, s, (10, 10, 15))\n",
    "solver.add_conductor(-10, c, (5, 5, 15))\n",
    "sl = Slab(2, (10, 10))\n",
    "solver.add_conductor(-12, sl, (20, 10, 15))\n",
    "z_slice = 15\n",
    "# solver.evolve_slice(z_slice=z_slice, iterations=1000)\n",
    "solver.evolve()\n"
   ]
  },
  {
   "cell_type": "code",
   "execution_count": null,
   "metadata": {},
   "outputs": [
    {
     "data": {
      "application/vnd.jupyter.widget-view+json": {
       "model_id": "ceda0456cc93452c9760fc1b789a0738",
       "version_major": 2,
       "version_minor": 0
      },
      "text/plain": [
       "interactive(children=(IntSlider(value=14, description='z_slice', max=29), Output()), _dom_classes=('widget-int…"
      ]
     },
     "metadata": {},
     "output_type": "display_data"
    }
   ],
   "source": [
    "solver.interactive_viz(levels=40)\n"
   ]
  },
  {
   "cell_type": "code",
   "execution_count": null,
   "metadata": {},
   "outputs": [],
   "source": []
  }
 ],
 "metadata": {
  "kernelspec": {
   "display_name": "ph",
   "language": "python",
   "name": "python3"
  },
  "language_info": {
   "codemirror_mode": {
    "name": "ipython",
    "version": 3
   },
   "file_extension": ".py",
   "mimetype": "text/x-python",
   "name": "python",
   "nbconvert_exporter": "python",
   "pygments_lexer": "ipython3",
   "version": "3.11.7"
  }
 },
 "nbformat": 4,
 "nbformat_minor": 2
}
